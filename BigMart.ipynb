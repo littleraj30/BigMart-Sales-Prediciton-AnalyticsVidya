{
  "cells": [
    {
      "metadata": {
        "_uuid": "8ef0542e7f1f9a8478489f77e70abc3d2e74abe7"
      },
      "cell_type": "markdown",
      "source": "# BIG MART SALES PREDICTION\n\n## Please give your suggestions and give upvote if you like my work :)"
    },
    {
      "metadata": {
        "_uuid": "a8fa7e5beb42f930b857d754727ded8d75c48ce7"
      },
      "cell_type": "markdown",
      "source": "## Importing files"
    },
    {
      "metadata": {
        "_uuid": "231782f29a756c1036ab37f0f46a579342eb1b5d",
        "trusted": true
      },
      "cell_type": "code",
      "source": "import warnings\nwarnings.filterwarnings('ignore')\nimport pandas as pd\nimport numpy as np\nimport matplotlib.pyplot as plt\nimport seaborn as sns",
      "execution_count": null,
      "outputs": []
    },
    {
      "metadata": {
        "_uuid": "21ca7ac18cd91cce7bb3916f100b16b4ecdff951",
        "trusted": true
      },
      "cell_type": "code",
      "source": "df=pd.read_csv('../input/Train.csv')",
      "execution_count": null,
      "outputs": []
    },
    {
      "metadata": {
        "_uuid": "6a55f661defd176b368398f47eb8a4194571fdc9"
      },
      "cell_type": "markdown",
      "source": "## Let's explore training data"
    },
    {
      "metadata": {
        "_uuid": "11009160d023f00eb9d9850abb38981851235c42",
        "trusted": true
      },
      "cell_type": "code",
      "source": "df.head()",
      "execution_count": null,
      "outputs": []
    },
    {
      "metadata": {
        "_uuid": "089a47f1d1883b3d8ae5e635eadc49dd3e476076",
        "trusted": true
      },
      "cell_type": "code",
      "source": "df.describe()",
      "execution_count": null,
      "outputs": []
    },
    {
      "metadata": {
        "_uuid": "422d10c74aa7aa061b9e3e8aa5f14760533c4a79",
        "trusted": true
      },
      "cell_type": "code",
      "source": "df.hist(figsize=(15,12))",
      "execution_count": null,
      "outputs": []
    },
    {
      "metadata": {
        "_uuid": "2f9a798bb709ef77cecc889331dd34812bdb1a89",
        "trusted": true
      },
      "cell_type": "code",
      "source": "df.info()",
      "execution_count": null,
      "outputs": []
    },
    {
      "metadata": {
        "_uuid": "28830d2c2d1af56be42b0a56fd47c205614aedb8"
      },
      "cell_type": "markdown",
      "source": "## Column ITEM WEIGHT and OUTLET SIZE contain missing values. "
    },
    {
      "metadata": {
        "_uuid": "4beda04b4212d33d508555380941a3239d6891d8"
      },
      "cell_type": "markdown",
      "source": "## Lets see correlation b/w target and features"
    },
    {
      "metadata": {
        "_uuid": "34456834f0a401548b759bde88c98aeb5feb5e04",
        "trusted": true
      },
      "cell_type": "code",
      "source": "corr_matrix=df.corr()\ncorr_matrix['Item_Outlet_Sales']",
      "execution_count": null,
      "outputs": []
    },
    {
      "metadata": {
        "_uuid": "f9314e9fbf5ca9cd5d621acc7a817056562dce79"
      },
      "cell_type": "markdown",
      "source": "## ITEM_MRP seems to have a good correlation with targeted ITEM_OUTLET_SALES and other columns are not very useful for prediction of target value"
    },
    {
      "metadata": {
        "_uuid": "88b51b8f1c8edebf847ae149264e8c06a2b6a84b"
      },
      "cell_type": "markdown",
      "source": "## Lets start checking columns relation with Target ITEM_OUTLET_SALES Price\n## First is ITEM_IDENTIFIER"
    },
    {
      "metadata": {
        "_uuid": "e63579ee05560a0beee7773a0e77c5fa528d82bb",
        "trusted": true
      },
      "cell_type": "code",
      "source": "df.Item_Identifier.value_counts()",
      "execution_count": null,
      "outputs": []
    },
    {
      "metadata": {
        "_uuid": "30e26ff4c2bb9b413ae7fe2a84c96482556496cf"
      },
      "cell_type": "markdown",
      "source": "## From above output we can say that ITEM_IDENTIFIER should be categorical columns\n## Since ITEM_WEIGHT column correlation strength is very low so we can drop it\n## Next Column is ITEM_FAT_CONTENT"
    },
    {
      "metadata": {
        "_uuid": "b9a89d01332efc4c6aca73afc0f2386f5dff6f25",
        "trusted": true
      },
      "cell_type": "code",
      "source": "df.Item_Fat_Content.value_counts()",
      "execution_count": null,
      "outputs": []
    },
    {
      "metadata": {
        "_uuid": "9e2e22d3862418dcbc4fd295be7fe92e95b91c5d"
      },
      "cell_type": "markdown",
      "source": "## LF, low fat belong to same category that is Low Fat and reg belong to Regular category so replacing LF, low fat and reg to thier category by"
    },
    {
      "metadata": {
        "_uuid": "bf9dc071d734a5f87f82e40d8ba19d92fce10789",
        "trusted": true
      },
      "cell_type": "code",
      "source": "df.Item_Fat_Content=df.Item_Fat_Content.replace('LF','Low Fat')",
      "execution_count": null,
      "outputs": []
    },
    {
      "metadata": {
        "_uuid": "a3d479b42878b8dcd7350692dc89a2dbf74b5f23",
        "trusted": true
      },
      "cell_type": "code",
      "source": "df.Item_Fat_Content=df.Item_Fat_Content.replace('reg','Regular')\ndf.Item_Fat_Content=df.Item_Fat_Content.replace('low fat','Low Fat')",
      "execution_count": null,
      "outputs": []
    },
    {
      "metadata": {
        "_uuid": "25d8a557164af57d5cfe5279f1dbbf671817af4c",
        "trusted": true
      },
      "cell_type": "code",
      "source": "df.Item_Fat_Content.value_counts()",
      "execution_count": null,
      "outputs": []
    },
    {
      "metadata": {
        "_uuid": "e149e3cc4ec9bf9b40319391c9e24c4f2b91c050"
      },
      "cell_type": "markdown",
      "source": "## For further data processing we need to convert column type into their correct type"
    },
    {
      "metadata": {
        "_uuid": "218a1f8533c843183ee8c99cb2f92cbcaa1f40f3",
        "trusted": true
      },
      "cell_type": "code",
      "source": "df.Item_Identifier=df.Item_Identifier.astype('category')\ndf.Item_Fat_Content=df.Item_Fat_Content.astype('category')\ndf.Item_Type=df.Item_Type.astype('category')\ndf.Outlet_Identifier=df.Outlet_Identifier.astype('category')\ndf.Outlet_Establishment_Year=df.Outlet_Establishment_Year.astype('int64')\n\ndf.Outlet_Type=df.Outlet_Type.astype('category')\ndf.Outlet_Location_Type=df.Outlet_Location_Type.astype('category')\ndf.Outlet_Size=df.Outlet_Size.astype('category')",
      "execution_count": null,
      "outputs": []
    },
    {
      "metadata": {
        "_uuid": "2da115a9fd8138357b5bb910c0243a94594ab2bb"
      },
      "cell_type": "markdown",
      "source": "## Now ITEM_MRP column. Correlation strength of this column with target column is very high so we need can exploit this column for further infomation about target column"
    },
    {
      "metadata": {
        "_uuid": "ea413a1c981cd3da2b51d04c91f55a5f9a8e7ae8",
        "trusted": true
      },
      "cell_type": "code",
      "source": "fig,axes=plt.subplots(1,1,figsize=(12,8))\nsns.scatterplot(x='Item_MRP',y='Item_Outlet_Sales',hue='Item_Fat_Content',size='Item_Weight',data=df)",
      "execution_count": null,
      "outputs": []
    },
    {
      "metadata": {
        "_uuid": "b59a4f8cb490f5cd6c49fd445fe45b4f653f29ea"
      },
      "cell_type": "markdown",
      "source": "## ITEM_MRP column contain prices which are in clusters so it would be better if we convert this columnn into bins for further processing"
    },
    {
      "metadata": {
        "_uuid": "961f90a5a8df8bc94b37259d994c081eb179a966",
        "trusted": true
      },
      "cell_type": "code",
      "source": "df.describe()",
      "execution_count": null,
      "outputs": []
    },
    {
      "metadata": {
        "_uuid": "ff13d144157d51d2cb6a7f71406e306abb16c227",
        "trusted": true
      },
      "cell_type": "code",
      "source": "fig,axes=plt.subplots(1,1,figsize=(10,8))\nsns.scatterplot(x='Item_MRP',y='Item_Outlet_Sales',hue='Item_Fat_Content',size='Item_Weight',data=df)\nplt.plot([69,69],[0,5000])\nplt.plot([137,137],[0,5000])\nplt.plot([203,203],[0,9000])",
      "execution_count": null,
      "outputs": []
    },
    {
      "metadata": {
        "_uuid": "6998981f2dc85a916c55289f969d8e626cee89f4"
      },
      "cell_type": "markdown",
      "source": "## We can use these perpendicular lines to divide data into proper bins. So from above graph we got out bin value. Now"
    },
    {
      "metadata": {
        "_uuid": "6f7128314fa5af395f49d286c556870c5bef73b5",
        "trusted": true
      },
      "cell_type": "code",
      "source": "df.Item_MRP=pd.cut(df.Item_MRP,bins=[25,69,137,203,270],labels=['a','b','c','d'],right=True)",
      "execution_count": null,
      "outputs": []
    },
    {
      "metadata": {
        "_uuid": "fbefaffc3c8dd1127d4720ed65c61ee3267c6150",
        "trusted": true
      },
      "cell_type": "code",
      "source": "df.head()",
      "execution_count": null,
      "outputs": []
    },
    {
      "metadata": {
        "_uuid": "d525f1d2e94d64a70f4ce734fd0a108d990b1c0b"
      },
      "cell_type": "markdown",
      "source": "## Now lets explore other columns"
    },
    {
      "metadata": {
        "_uuid": "50566071e6f5ee23d0a11f94128ce61a5354fcec",
        "trusted": true
      },
      "cell_type": "code",
      "source": "fig,axes=plt.subplots(3,1,figsize=(15,12))\nsns.scatterplot(x='Item_Visibility',y='Item_Outlet_Sales',hue='Item_MRP',ax=axes[0],data=df)\nsns.boxplot(x='Item_Type',y='Item_Outlet_Sales',ax=axes[1],data=df)\nsns.boxplot(x='Outlet_Identifier',y='Item_Outlet_Sales',ax=axes[2],data=df)",
      "execution_count": null,
      "outputs": []
    },
    {
      "metadata": {
        "_uuid": "217e7e7dd4f108ca04a9cf2e8e64c8421cef5c22",
        "trusted": true
      },
      "cell_type": "code",
      "source": "fig,axes=plt.subplots(2,2,figsize=(15,12))\nsns.boxplot(x='Outlet_Establishment_Year',y='Item_Outlet_Sales',ax=axes[0,0],data=df)\nsns.boxplot(x='Outlet_Size',y='Item_Outlet_Sales',ax=axes[0,1],data=df)\nsns.boxplot(x='Outlet_Location_Type',y='Item_Outlet_Sales',ax=axes[1,0],data=df)\nsns.boxplot(x='Outlet_Type',y='Item_Outlet_Sales',ax=axes[1,1],data=df)",
      "execution_count": null,
      "outputs": []
    },
    {
      "metadata": {
        "_uuid": "a2947c543da7eef1b6feefc2611e1837da8b3d4b"
      },
      "cell_type": "markdown",
      "source": "## From above plots we can say that we can drop ITEM_VISIBILiTY along with ITEM_WEIGHT . Further more both of these column have very low correlation strength with target column.\n\n## Therefore Columns for model training will be"
    },
    {
      "metadata": {
        "_uuid": "7cedaf9b6cece2a61ea2794d6f433bff65247dab",
        "trusted": true
      },
      "cell_type": "code",
      "source": "attributes=['Item_MRP','Outlet_Type','Outlet_Location_Type','Outlet_Size','Outlet_Establishment_Year','Outlet_Identifier','Item_Type','Item_Outlet_Sales']",
      "execution_count": null,
      "outputs": []
    },
    {
      "metadata": {
        "_uuid": "50990ecf00db274806ab29bfe8d86a2585e2ab2e",
        "trusted": true
      },
      "cell_type": "code",
      "source": "fig,axes=plt.subplots(2,2,figsize=(15,12))\nsns.boxplot(x='Outlet_Establishment_Year',y='Item_Outlet_Sales',hue='Outlet_Size',ax=axes[0,0],data=df)\nsns.boxplot(x='Outlet_Size',y='Item_Outlet_Sales',hue='Outlet_Size',ax=axes[0,1],data=df)\nsns.boxplot(x='Outlet_Location_Type',y='Item_Outlet_Sales',hue='Outlet_Size',ax=axes[1,0],data=df)\nsns.boxplot(x='Outlet_Type',y='Item_Outlet_Sales',hue='Outlet_Size',ax=axes[1,1],data=df)",
      "execution_count": null,
      "outputs": []
    },
    {
      "metadata": {
        "_uuid": "2e08fce4a30e0d5879e7df6fdd0a9e242a0d9e68",
        "trusted": true
      },
      "cell_type": "code",
      "source": "data=df[attributes]",
      "execution_count": null,
      "outputs": []
    },
    {
      "metadata": {
        "_uuid": "f1715e1b32c9ac04aac035fd2052381815a583bf",
        "trusted": true
      },
      "cell_type": "code",
      "source": "data.info()",
      "execution_count": null,
      "outputs": []
    },
    {
      "metadata": {
        "_uuid": "cc53e40f0f831b663f13be15aef4d37d1e8067cf",
        "trusted": true
      },
      "cell_type": "code",
      "source": "fig,axes=plt.subplots(1,1,figsize=(8,6))\nsns.boxplot(y='Item_Outlet_Sales',hue='Outlet_Type',x='Outlet_Location_Type',data=data)",
      "execution_count": null,
      "outputs": []
    },
    {
      "metadata": {
        "_uuid": "85151afe2e68c307a7b485d51ee5fb4d544ce9d7",
        "trusted": true
      },
      "cell_type": "code",
      "source": "data[data.Outlet_Size.isnull()]",
      "execution_count": null,
      "outputs": []
    },
    {
      "metadata": {
        "_uuid": "a4e53e6d58566f478a40cc8aed91a3e61da46827"
      },
      "cell_type": "markdown",
      "source": "## One thing to observe is when OUTLET_TYPE = supermarket type 1 and OUTLET_LOCATION_TYPE is Tier 2 then outlet size is null furthermore when OUTLET_TYPE = Grocery store and OUTLET_LOCATION_TYPE is Tier 3 then outlet size is always null "
    },
    {
      "metadata": {
        "_uuid": "611c89aba8a45ce7ec0fd3e1fd65103c75cfff71",
        "trusted": true
      },
      "cell_type": "code",
      "source": "data.groupby('Outlet_Type').get_group('Grocery Store')['Outlet_Location_Type'].value_counts()",
      "execution_count": null,
      "outputs": []
    },
    {
      "metadata": {
        "_uuid": "84c8947f86f539074a307b47093d6e691c203869",
        "trusted": true
      },
      "cell_type": "code",
      "source": "data.groupby('Outlet_Type').get_group('Grocery Store')",
      "execution_count": null,
      "outputs": []
    },
    {
      "metadata": {
        "_uuid": "beafbba8c973d9f268e83643a3ab6064ea1047b6",
        "trusted": true
      },
      "cell_type": "code",
      "source": "data.groupby(['Outlet_Location_Type','Outlet_Type'])['Outlet_Size'].value_counts()",
      "execution_count": null,
      "outputs": []
    },
    {
      "metadata": {
        "_uuid": "0686e0792ed67a0c5d7852311e588979af9ef1a3",
        "trusted": true
      },
      "cell_type": "code",
      "source": "(data.Outlet_Identifier=='OUT010').value_counts()",
      "execution_count": null,
      "outputs": []
    },
    {
      "metadata": {
        "_uuid": "6321db232ee8514423b64a712c838bc790043ad8",
        "trusted": true
      },
      "cell_type": "code",
      "source": "data.groupby('Outlet_Size').Outlet_Identifier.value_counts()",
      "execution_count": null,
      "outputs": []
    },
    {
      "metadata": {
        "_uuid": "7dbdc978c074949c7badba1cdaa8b44b40b8caac"
      },
      "cell_type": "markdown",
      "source": "## Tier 1 have small and medium size shop. Tier 2 have small and (missing 1) type shop. Tier 3 have 2-medium and 1 high and (missing 2) shop\n## Tier 2 will have medium size shop in missing 1 and Tier 3 will be high or medium size shop"
    },
    {
      "metadata": {
        "_uuid": "66b0b412b0554a7e3a7e2bc24ab185bf5505d3fb",
        "trusted": true
      },
      "cell_type": "code",
      "source": "def func(x):\n    if x.Outlet_Identifier == 'OUT010' :\n        x.Outlet_Size == 'High'\n    elif x.Outlet_Identifier == 'OUT045' :\n        x.Outlet_Size == 'Medium'\n    elif x.Outlet_Identifier == 'OUT017' :\n        x.Outlet_Size == 'Medium'\n    elif x.Outlet_Identifier == 'OUT013' :\n        x.Outlet_Size == 'High'\n    elif x.Outlet_Identifier == 'OUT046' :\n        x.Outlet_Size == 'Small'\n    elif x.Outlet_Identifier == 'OUT035' :\n        x.Outlet_Size == 'Small'\n    elif x.Outlet_Identifier == 'OUT019' :\n        x.Outlet_Size == 'Small'\n    elif x.Outlet_Identifier == 'OUT027' :\n        x.Outlet_Size == 'Medium'\n    elif x.Outlet_Identifier == 'OUT049' :\n        x.Outlet_Size == 'Medium'\n    elif x.Outlet_Identifier == 'OUT018' :\n        x.Outlet_Size == 'Medium'\n    return(x)",
      "execution_count": null,
      "outputs": []
    },
    {
      "metadata": {
        "_uuid": "d5ecb6b6acfc69919ee8b053468f62ed4e7ff475",
        "trusted": true
      },
      "cell_type": "code",
      "source": "data.Outlet_Size=data.apply(func,axis=1)",
      "execution_count": null,
      "outputs": []
    },
    {
      "metadata": {
        "_uuid": "d60e96e2c01b123b5ffc169d58068c097b08e545"
      },
      "cell_type": "markdown",
      "source": "## Now lets checkout OUTLIERS "
    },
    {
      "metadata": {
        "_uuid": "4d13331ba7f9fcde0b9597971a6745f839d85871",
        "trusted": true
      },
      "cell_type": "code",
      "source": "data.head()",
      "execution_count": null,
      "outputs": []
    },
    {
      "metadata": {
        "_uuid": "0ee6d2f510f32f9087794258ca353b6fb7865c23",
        "trusted": true
      },
      "cell_type": "code",
      "source": "sns.boxplot(x='Item_MRP',y='Item_Outlet_Sales',data=data)",
      "execution_count": null,
      "outputs": []
    },
    {
      "metadata": {
        "_uuid": "2c881ba5fab81bb8eee9e44b8de42d4a1c1c5c17",
        "trusted": true
      },
      "cell_type": "code",
      "source": "data[data.Item_MRP=='b'].Item_Outlet_Sales.max()",
      "execution_count": null,
      "outputs": []
    },
    {
      "metadata": {
        "_uuid": "c259de029db7c18c9ef6573723362f0299c05b37",
        "trusted": true
      },
      "cell_type": "code",
      "source": "data[data.Item_Outlet_Sales==7158.6816]",
      "execution_count": null,
      "outputs": []
    },
    {
      "metadata": {
        "_uuid": "972184e47a7e5dbaf9a6612e5962eaa20f283aca",
        "trusted": true
      },
      "cell_type": "code",
      "source": "data=data.drop(index=7796)\ndata.groupby('Item_MRP').get_group('b')['Item_Outlet_Sales'].max()",
      "execution_count": null,
      "outputs": []
    },
    {
      "metadata": {
        "_uuid": "29c2fee872a08e9945765bb80ade198f5719112f",
        "trusted": true
      },
      "cell_type": "code",
      "source": "sns.boxplot(x='Outlet_Type',y='Item_Outlet_Sales',data=data)",
      "execution_count": null,
      "outputs": []
    },
    {
      "metadata": {
        "_uuid": "3f712a2e0a7ab965db49c6d226dc6510748ca8db",
        "trusted": true
      },
      "cell_type": "code",
      "source": "sns.boxplot(x='Outlet_Location_Type',y='Item_Outlet_Sales',data=data)",
      "execution_count": null,
      "outputs": []
    },
    {
      "metadata": {
        "_uuid": "958ec4573d670683237fb057931405bfaac7bcc9",
        "trusted": true
      },
      "cell_type": "code",
      "source": "data[data.Outlet_Location_Type=='Tier 1'].Item_Outlet_Sales.max()",
      "execution_count": null,
      "outputs": []
    },
    {
      "metadata": {
        "_uuid": "770dc7190e87739d0702574660802bac9117805c",
        "trusted": true
      },
      "cell_type": "code",
      "source": "data[data['Item_Outlet_Sales']==9779.9362]",
      "execution_count": null,
      "outputs": []
    },
    {
      "metadata": {
        "_uuid": "6d3b91b102b83178a9debf858d9eaec549422a15",
        "trusted": true
      },
      "cell_type": "code",
      "source": "data=data.drop(index=4289)",
      "execution_count": null,
      "outputs": []
    },
    {
      "metadata": {
        "_uuid": "73fc7f848e331914e94ad419e46ece214f7177ba",
        "trusted": true
      },
      "cell_type": "code",
      "source": "sns.boxplot(x='Outlet_Size',y='Item_Outlet_Sales',data=data)",
      "execution_count": null,
      "outputs": []
    },
    {
      "metadata": {
        "_uuid": "cd15d4974ea3374874ca8d5d24623fffbce3ae0c",
        "trusted": true
      },
      "cell_type": "code",
      "source": "sns.boxplot(x='Outlet_Establishment_Year',y='Item_Outlet_Sales',data=data)",
      "execution_count": null,
      "outputs": []
    },
    {
      "metadata": {
        "_uuid": "fd4ccd839e607e0fed0bcb43d36b3bc1fe17c4c0",
        "trusted": true
      },
      "cell_type": "code",
      "source": "data.Outlet_Establishment_Year=data.Outlet_Establishment_Year.astype('category')\ndata_label=data.Item_Outlet_Sales\ndata_dummy=pd.get_dummies(data.iloc[:,0:6])",
      "execution_count": null,
      "outputs": []
    },
    {
      "metadata": {
        "_uuid": "0f291fb7211a38f9246a172f7643bb201ed5b725",
        "trusted": true
      },
      "cell_type": "code",
      "source": "data_dummy['Item_Outlet_Sales']=data_label",
      "execution_count": null,
      "outputs": []
    },
    {
      "metadata": {
        "_uuid": "1f89b6a2a5419ec161584604b2e66b3fde474643",
        "trusted": true
      },
      "cell_type": "code",
      "source": "data_dummy.shape",
      "execution_count": null,
      "outputs": []
    },
    {
      "metadata": {
        "_uuid": "3d9b8e5a028895afd18238ab9329609f58ee3a65"
      },
      "cell_type": "markdown",
      "source": "# Now we are ready to apply ML algorithms"
    },
    {
      "metadata": {
        "_uuid": "dd32c919269c3c1a6dde0d630c742aa7c53a4db2",
        "trusted": true
      },
      "cell_type": "code",
      "source": "from sklearn.model_selection import train_test_split",
      "execution_count": null,
      "outputs": []
    },
    {
      "metadata": {
        "_uuid": "5df8b94d3e43d3af2fd5fe09dfc08017c8e39611",
        "trusted": true
      },
      "cell_type": "code",
      "source": "train,test = train_test_split(data_dummy,test_size=0.20,random_state=2019)",
      "execution_count": null,
      "outputs": []
    },
    {
      "metadata": {
        "_uuid": "9c331bf8944f025563e6fb8dcd422c9b43e36e35",
        "trusted": true
      },
      "cell_type": "code",
      "source": "train.shape , test.shape",
      "execution_count": null,
      "outputs": []
    },
    {
      "metadata": {
        "_uuid": "1c43c5f8fd62f91be51efd77110487076d6d045a",
        "trusted": true
      },
      "cell_type": "code",
      "source": "train_label=train['Item_Outlet_Sales']\ntest_label=test['Item_Outlet_Sales']\ndel train['Item_Outlet_Sales']\ndel test['Item_Outlet_Sales']",
      "execution_count": null,
      "outputs": []
    },
    {
      "metadata": {
        "_uuid": "946005463c32fa89ef1525f336a35f2291fb514a"
      },
      "cell_type": "markdown",
      "source": "# Applying Linear Regression \n"
    },
    {
      "metadata": {
        "_uuid": "f3a7d7fe7e7810d75c6b36c4c1fb9979c7c762ae",
        "trusted": true
      },
      "cell_type": "code",
      "source": "from sklearn.linear_model import LinearRegression",
      "execution_count": null,
      "outputs": []
    },
    {
      "metadata": {
        "_uuid": "c52b2985476622cf2a5df8e671ebddb9087e5369",
        "trusted": true
      },
      "cell_type": "code",
      "source": "lr=LinearRegression()",
      "execution_count": null,
      "outputs": []
    },
    {
      "metadata": {
        "_uuid": "80f4e9a412d7068c697a4292bd39beaa77726d32",
        "trusted": true
      },
      "cell_type": "code",
      "source": "lr.fit(train,train_label)",
      "execution_count": null,
      "outputs": []
    },
    {
      "metadata": {
        "_uuid": "53ab773ec011a12a752efb2f813309be60bd7b1a",
        "trusted": true
      },
      "cell_type": "code",
      "source": "from sklearn.metrics import mean_squared_error",
      "execution_count": null,
      "outputs": []
    },
    {
      "metadata": {
        "_uuid": "fead849072681ab8427ec1042b186a1691b8cf5d",
        "trusted": true
      },
      "cell_type": "code",
      "source": "predict_lr=lr.predict(test)",
      "execution_count": null,
      "outputs": []
    },
    {
      "metadata": {
        "_uuid": "6c7e781c943018709a8f8cb026cff0b1a11903c5",
        "trusted": true
      },
      "cell_type": "code",
      "source": "mse=mean_squared_error(test_label,predict_lr)",
      "execution_count": null,
      "outputs": []
    },
    {
      "metadata": {
        "_uuid": "a30165bfcacb73c72516efa821c5275d142a7dfe",
        "trusted": true
      },
      "cell_type": "code",
      "source": "lr_score=np.sqrt(mse)",
      "execution_count": null,
      "outputs": []
    },
    {
      "metadata": {
        "_uuid": "efef860ea8eda7c48c32819eb00043eb27c17a69",
        "trusted": true
      },
      "cell_type": "code",
      "source": "lr_score",
      "execution_count": null,
      "outputs": []
    },
    {
      "metadata": {
        "_uuid": "9d1c1005d2f1478a1317bc46d0f7dcecfd3e65be"
      },
      "cell_type": "markdown",
      "source": "# Cross Val for Linear Regression"
    },
    {
      "metadata": {
        "_uuid": "25c905c6a95c50ad40289c11c391c4bf627dc814",
        "trusted": true
      },
      "cell_type": "code",
      "source": "from sklearn.model_selection import cross_val_score",
      "execution_count": null,
      "outputs": []
    },
    {
      "metadata": {
        "_uuid": "365d3a59f3901419428c35d67f5cbcad455e0df7",
        "trusted": true
      },
      "cell_type": "code",
      "source": "score=cross_val_score(lr,train,train_label,cv=10,scoring='neg_mean_squared_error')",
      "execution_count": null,
      "outputs": []
    },
    {
      "metadata": {
        "_uuid": "0d191faeecced57a1e25e660260e919b02db0ad2",
        "trusted": true
      },
      "cell_type": "code",
      "source": "lr_score_cross=np.sqrt(-score)",
      "execution_count": null,
      "outputs": []
    },
    {
      "metadata": {
        "_uuid": "d84fdf1cf287da970f4982c643bb593284470fcf",
        "trusted": true
      },
      "cell_type": "code",
      "source": "np.mean(lr_score_cross),np.std(lr_score_cross)",
      "execution_count": null,
      "outputs": []
    },
    {
      "metadata": {
        "_uuid": "da512cdaa737b08f1e24f92bd4a24eb37d159e74"
      },
      "cell_type": "markdown",
      "source": "# Ridge Regression"
    },
    {
      "metadata": {
        "_uuid": "b90a780db1aac916dd75488fc0d353a1ea870c67",
        "trusted": true
      },
      "cell_type": "code",
      "source": "from sklearn.linear_model import Ridge\nr=Ridge(alpha=0.05,solver='cholesky')\nr.fit(train,train_label)\npredict_r=r.predict(test)\nmse=mean_squared_error(test_label,predict_r)\nr_score=np.sqrt(mse)\nr_score",
      "execution_count": null,
      "outputs": []
    },
    {
      "metadata": {
        "_uuid": "71488d6a6b28d150213b21b07b4757c0efe80b94"
      },
      "cell_type": "markdown",
      "source": "# Cross Val Ridge"
    },
    {
      "metadata": {
        "_uuid": "88e59f217c92d969790ff39808c9ab7d349b6089",
        "trusted": true
      },
      "cell_type": "code",
      "source": "r=Ridge(alpha=0.05,solver='cholesky')\nscore=cross_val_score(r,train,train_label,cv=10,scoring='neg_mean_squared_error')\nr_score_cross=np.sqrt(-score)\nnp.mean(r_score_cross),np.std(r_score_cross)",
      "execution_count": null,
      "outputs": []
    },
    {
      "metadata": {
        "_uuid": "743d7f252925fe907f76a1bf52c75a9a1737e556"
      },
      "cell_type": "markdown",
      "source": "# LASSO"
    },
    {
      "metadata": {
        "_uuid": "0da080e49cf3bb12d6e6c33754631b3dbc02990d",
        "trusted": true
      },
      "cell_type": "code",
      "source": "from sklearn.linear_model import Lasso\nl=Lasso(alpha=0.01)\nl.fit(train,train_label)\npredict_l=l.predict(test)\nmse=mean_squared_error(test_label,predict_l)\nl_score=np.sqrt(mse)\nl_score",
      "execution_count": null,
      "outputs": []
    },
    {
      "metadata": {
        "_uuid": "1a8790a87dd891e6bb6fa36e75c78cb0730d9907"
      },
      "cell_type": "markdown",
      "source": "# Cross VAl LAsso"
    },
    {
      "metadata": {
        "_uuid": "d850a4ae66c3e948ae7b01c8626de5e27353a4cc",
        "trusted": true
      },
      "cell_type": "code",
      "source": "l=Lasso(alpha=0.01)\nscore=cross_val_score(l,train,train_label,cv=10,scoring='neg_mean_squared_error')\nl_score_cross=np.sqrt(-score)\nnp.mean(l_score_cross),np.std(l_score_cross)",
      "execution_count": null,
      "outputs": []
    },
    {
      "metadata": {
        "_uuid": "7787fe65b66f43364fdc9ef401ea955e6a38e861"
      },
      "cell_type": "markdown",
      "source": "# Elastic NEt"
    },
    {
      "metadata": {
        "_uuid": "3ec066a02d42b1ca1ef2ba43b806a0df0f6f717d",
        "trusted": true
      },
      "cell_type": "code",
      "source": "from sklearn.linear_model import ElasticNet\nen=ElasticNet(alpha=0.01,l1_ratio=0.5)\nen.fit(train,train_label)\npredict_r=en.predict(test)\nmse=mean_squared_error(test_label,predict_r)\nen_score=np.sqrt(mse)\nen_score",
      "execution_count": null,
      "outputs": []
    },
    {
      "metadata": {
        "_uuid": "eccac34ffd5fa724f4f9f875a1ceedce717e3e9e"
      },
      "cell_type": "markdown",
      "source": "# Cross val Elastic"
    },
    {
      "metadata": {
        "_uuid": "397fe46cfaa3a5dde74b5ecc9f5f8bbaafea3ef8",
        "trusted": true
      },
      "cell_type": "code",
      "source": "en=ElasticNet(alpha=0.01,l1_ratio=0.5)\nscore=cross_val_score(en,train,train_label,cv=10,scoring='neg_mean_squared_error')\nen_score_cross=np.sqrt(-score)\nnp.mean(en_score_cross),np.std(en_score_cross)",
      "execution_count": null,
      "outputs": []
    },
    {
      "metadata": {
        "_uuid": "847b25e3e8674891be5b48326f52375d2fd7c0a2"
      },
      "cell_type": "markdown",
      "source": "# Stochastic gradient"
    },
    {
      "metadata": {
        "_uuid": "14fdbe2ccd7849576ff87ffb98c6dcaf997ceb8b",
        "trusted": true
      },
      "cell_type": "code",
      "source": "from sklearn.linear_model import SGDRegressor\nsgd=SGDRegressor(penalty='l2',n_iter=100,alpha=0.05)\nsgd.fit(train,train_label)\npredict_r=sgd.predict(test)\nmse=mean_squared_error(test_label,predict_r)\nsgd_score=np.sqrt(mse)\nsgd_score",
      "execution_count": null,
      "outputs": []
    },
    {
      "metadata": {
        "_uuid": "801b8092e4bb1136d92409f00dd0d8a6bccc7419"
      },
      "cell_type": "markdown",
      "source": "# Cross Val Stochastic Gradient"
    },
    {
      "metadata": {
        "_uuid": "5ca45e0b99579a8de8e6769895d5cec34fdcc4cd",
        "trusted": true
      },
      "cell_type": "code",
      "source": "sgd=SGDRegressor(penalty='l2',n_iter=100,alpha=0.05)\nscore=cross_val_score(sgd,train,train_label,cv=10,scoring='neg_mean_squared_error')\nsgd_score_cross=np.sqrt(-score)\nnp.mean(sgd_score_cross),np.std(sgd_score_cross)",
      "execution_count": null,
      "outputs": []
    },
    {
      "metadata": {
        "_uuid": "4b3af6b97cf7b920904107bf87a495d7aeef1e99"
      },
      "cell_type": "markdown",
      "source": "# SVR"
    },
    {
      "metadata": {
        "_uuid": "525067bd349bf1e2339fd6f8e560cfc9a9f41022",
        "trusted": true
      },
      "cell_type": "code",
      "source": "from sklearn.svm import SVR\nsvm=SVR(epsilon=15,kernel='linear')\nsvm.fit(train,train_label)\npredict_r=svm.predict(test)\nmse=mean_squared_error(test_label,predict_r)\nsvm_score=np.sqrt(mse)\nsvm_score",
      "execution_count": null,
      "outputs": []
    },
    {
      "metadata": {
        "_uuid": "3fd1f00a01528a41fe9d764beb45a819fa5dba6d"
      },
      "cell_type": "markdown",
      "source": "# Cross VAl SVR"
    },
    {
      "metadata": {
        "_uuid": "34caec8fe7c791ae115ad10ffa87ffb7b9ada3c9",
        "trusted": true
      },
      "cell_type": "code",
      "source": "svm=SVR(epsilon=15,kernel='linear')\nscore=cross_val_score(svm,train,train_label,cv=10,scoring='neg_mean_squared_error')\nsvm_score_cross=np.sqrt(-score)\nnp.mean(svm_score_cross),np.std(svm_score_cross)",
      "execution_count": null,
      "outputs": []
    },
    {
      "metadata": {
        "_uuid": "d637ab1883e98523605fce81fad47c9e1b6e5091"
      },
      "cell_type": "markdown",
      "source": "# Decision Tree"
    },
    {
      "metadata": {
        "_uuid": "d244e79884a19e0bb9c5431889f8ba7e1ade0194",
        "trusted": true
      },
      "cell_type": "code",
      "source": "from sklearn.tree import DecisionTreeRegressor\ndtr=DecisionTreeRegressor()\ndtr.fit(train,train_label)\npredict_r=dtr.predict(test)\nmse=mean_squared_error(test_label,predict_r)\ndtr_score=np.sqrt(mse)\ndtr_score",
      "execution_count": null,
      "outputs": []
    },
    {
      "metadata": {
        "_uuid": "0d8060855bc7dde512a00a1841f27549a71dbacc"
      },
      "cell_type": "markdown",
      "source": "# Cross Val Decision Tree"
    },
    {
      "metadata": {
        "_uuid": "28f8e7af2078eecc8c1d47e34712dd9b18f8e517",
        "trusted": true
      },
      "cell_type": "code",
      "source": "dtr=DecisionTreeRegressor()\nscore=cross_val_score(dtr,train,train_label,cv=10,scoring='neg_mean_squared_error')\ndtr_score_cross=np.sqrt(-score)\nnp.mean(dtr_score_cross),np.std(dtr_score_cross)",
      "execution_count": null,
      "outputs": []
    },
    {
      "metadata": {
        "_uuid": "e2fb5236f418644c4a6e49e1262388d1c1ed6745"
      },
      "cell_type": "markdown",
      "source": "# Random Forest"
    },
    {
      "metadata": {
        "_uuid": "20add254adcb6d2b39e54fb82f68f21450e51e1e",
        "trusted": true
      },
      "cell_type": "code",
      "source": "from sklearn.ensemble import RandomForestRegressor\nrf=RandomForestRegressor()\nrf.fit(train,train_label)\npredict_r=rf.predict(test)\nmse=mean_squared_error(test_label,predict_r)\nrf_score=np.sqrt(mse)\nrf_score",
      "execution_count": null,
      "outputs": []
    },
    {
      "metadata": {
        "_uuid": "eab52915d2a38bbc09b0253f3fa2578996bb5ec9"
      },
      "cell_type": "markdown",
      "source": "# Cross Val RandomForest"
    },
    {
      "metadata": {
        "_uuid": "c6dde7f598437e13868789154586588b75da2af5",
        "trusted": true
      },
      "cell_type": "code",
      "source": "rf=RandomForestRegressor()\nscore=cross_val_score(rf,train,train_label,cv=10,scoring='neg_mean_squared_error')\nrf_score_cross=np.sqrt(-score)\nnp.mean(rf_score_cross),np.std(rf_score_cross)",
      "execution_count": null,
      "outputs": []
    },
    {
      "metadata": {
        "_uuid": "6f75bb4252325780a3884ccb09dcb227e6c995e2"
      },
      "cell_type": "markdown",
      "source": "# Bagging Regressoion"
    },
    {
      "metadata": {
        "_uuid": "94b292780b6ec3736bbbab908e0f56e532dcbb1f",
        "trusted": true
      },
      "cell_type": "code",
      "source": "from sklearn.ensemble import BaggingRegressor",
      "execution_count": null,
      "outputs": []
    },
    {
      "metadata": {
        "_uuid": "a3343aa609a1234248d699c71c7db7af7b7aa5b7",
        "trusted": true
      },
      "cell_type": "code",
      "source": "br=BaggingRegressor(max_samples=70)",
      "execution_count": null,
      "outputs": []
    },
    {
      "metadata": {
        "_uuid": "3fd8cb12629a7d015fd9d7edf336c7c83170dea7",
        "trusted": true
      },
      "cell_type": "code",
      "source": "br.fit(train,train_label)",
      "execution_count": null,
      "outputs": []
    },
    {
      "metadata": {
        "_uuid": "ad27ebe436de993d4d8a7b8717af126ed2c7fdb6",
        "trusted": true
      },
      "cell_type": "code",
      "source": "score=br.predict(test)",
      "execution_count": null,
      "outputs": []
    },
    {
      "metadata": {
        "_uuid": "ccff204fd23dc654891d70b73560422558f5a6a2",
        "trusted": true
      },
      "cell_type": "code",
      "source": "br_score=mean_squared_error(test_label,score)",
      "execution_count": null,
      "outputs": []
    },
    {
      "metadata": {
        "_uuid": "90f8c369f85d72b217ac561a0f582e5e560bdbd4",
        "trusted": true
      },
      "cell_type": "code",
      "source": "br_score=np.sqrt(br_score)\nbr_score",
      "execution_count": null,
      "outputs": []
    },
    {
      "metadata": {
        "_uuid": "726b7c716c3e213099a0f9605056f6f9da25489c"
      },
      "cell_type": "markdown",
      "source": "# Cross Val Bagging"
    },
    {
      "metadata": {
        "_uuid": "703b020e56a2962b3a63c8fc54feea68e261892c",
        "trusted": true
      },
      "cell_type": "code",
      "source": "br=BaggingRegressor()\nscore=cross_val_score(br,train,train_label,cv=10,scoring='neg_mean_squared_error')\nbr_score_cross=np.sqrt(-score)\nnp.mean(br_score_cross),np.std(br_score_cross)",
      "execution_count": null,
      "outputs": []
    },
    {
      "metadata": {
        "_uuid": "ea3d17209fcf332d0fce826af7bff2d7b058a146"
      },
      "cell_type": "markdown",
      "source": "# ADAPTIVE BOOSTING"
    },
    {
      "metadata": {
        "_uuid": "a46bfeb31d81c30509d3057a869b23408614f738",
        "scrolled": true,
        "trusted": true
      },
      "cell_type": "code",
      "source": "from sklearn.ensemble import AdaBoostRegressor\nada=AdaBoostRegressor()\nada.fit(train,train_label)\ng=ada.predict(test)\nada_score=mean_squared_error(test_label,g)\nada_score=np.sqrt(ada_score)\nada_score",
      "execution_count": null,
      "outputs": []
    },
    {
      "metadata": {
        "_uuid": "fc217926fef9a66ce95e64ffee4d2763b3028813"
      },
      "cell_type": "markdown",
      "source": "# Cross val for ADA BOOST"
    },
    {
      "metadata": {
        "_uuid": "d3427f93982a6b51d543f68b90998e38ea184b67",
        "trusted": true
      },
      "cell_type": "code",
      "source": "ada=AdaBoostRegressor()\nscore=cross_val_score(ada,train,train_label,cv=10,scoring='neg_mean_squared_error')\nada_score_cross=np.sqrt(-score)\nnp.mean(ada_score_cross),np.std(ada_score_cross)",
      "execution_count": null,
      "outputs": []
    },
    {
      "metadata": {
        "_uuid": "41c98ca741c469e5cc66814ac7c84cbeeb6f1b6e"
      },
      "cell_type": "markdown",
      "source": "# Gradient BOOSTING"
    },
    {
      "metadata": {
        "_uuid": "a0cc3758c335202d22c45def89f82efd1211508a",
        "trusted": true
      },
      "cell_type": "code",
      "source": "from sklearn.ensemble import GradientBoostingRegressor\ngbr=GradientBoostingRegressor()\ngbr.fit(train,train_label)\np=gbr.predict(test)\ngb_score=mean_squared_error(test_label,p)\ngb_score=np.sqrt(gb_score)\ngb_score",
      "execution_count": null,
      "outputs": []
    },
    {
      "metadata": {
        "_uuid": "96ad67848c93287547a71b548d241fb43dc98e77"
      },
      "cell_type": "markdown",
      "source": "# Cross Val for Gb"
    },
    {
      "metadata": {
        "_uuid": "7ca48dee2e206d97fb9a68b456a23daee5c287b8",
        "trusted": true
      },
      "cell_type": "code",
      "source": "gb=GradientBoostingRegressor()\nscore=cross_val_score(gb,train,train_label,cv=10,scoring='neg_mean_squared_error')\ngb_score_cross=np.sqrt(-score)\nnp.mean(gb_score_cross),np.std(gb_score_cross)",
      "execution_count": null,
      "outputs": []
    },
    {
      "metadata": {
        "_uuid": "485ff4b44dc97bfb659decbf93ab274c4e893234"
      },
      "cell_type": "markdown",
      "source": "# Dataframe\n"
    },
    {
      "metadata": {
        "_uuid": "c0b9a5be1fdce0755d0b86c1e7ea0712609fa286",
        "trusted": true
      },
      "cell_type": "code",
      "source": "name=['Linear Regression','Linear Regression CV','Ridge Regression','Ridge Regression CV','Lasso Regression',\n     'Lasso Regression CV','Elastic Net Regression','Elastic Net Regression CV','SGD Regression','SGD Regression CV',\n     'SVM','SVM CV','Decision Tree','Decision Tree Regression','Random Forest','Random Forest CV','Ada Boost','Ada Boost CV',\n     'Bagging','Bagging CV','Gradient Boost','Gradient Boost CV']",
      "execution_count": null,
      "outputs": []
    },
    {
      "metadata": {
        "_uuid": "196bc68dae92b73c32ef44858ccd023919a99e23",
        "trusted": true
      },
      "cell_type": "code",
      "source": "go=pd.DataFrame({'RMSE':[lr_score,lr_score_cross,r_score,r_score_cross,l_score,l_score_cross,en_score,en_score_cross,\n                     sgd_score,sgd_score_cross,svm_score,svm_score_cross,dtr_score,dtr_score_cross,rf_score,rf_score_cross,\n                     ada_score,ada_score_cross,br_score,br_score_cross,gb_score,gb_score_cross]},index=name)",
      "execution_count": null,
      "outputs": []
    },
    {
      "metadata": {
        "_uuid": "3b800c6c556ae0a7b9c9b57e8eef2cccdff692d0",
        "trusted": true
      },
      "cell_type": "code",
      "source": "go['RMSE']=go.applymap(lambda x: x.mean())",
      "execution_count": null,
      "outputs": []
    },
    {
      "metadata": {
        "_uuid": "b60ce8867fb4bddcab4e52317fb72065758aff0f",
        "trusted": true
      },
      "cell_type": "code",
      "source": "go.RMSE.sort_values()",
      "execution_count": null,
      "outputs": []
    },
    {
      "metadata": {
        "trusted": true,
        "scrolled": true,
        "_uuid": "7e04b3a5e1a042b3d4c79cea391d8325be42b31a"
      },
      "cell_type": "code",
      "source": "fig=plt.figure(figsize=(10,6))\nplt.scatter(np.arange(1,100,10),predict_r[0:100:10],color='blue')\nplt.scatter(np.arange(1,100,10),p[0:100:10],color='yellow')\nplt.scatter(np.arange(1,100,10),test_label[0:100:10],color='black')\nplt.legend(['Random_Forest','Gradient Boosting','Real Value'])\n",
      "execution_count": null,
      "outputs": []
    },
    {
      "metadata": {
        "_uuid": "85229d8d6db2828858853a89d7e63c1a285c561f"
      },
      "cell_type": "markdown",
      "source": "# It seems like Gradient Boosting doing better than others\n# So lets Do grid search on to tune hyper parameter"
    },
    {
      "metadata": {
        "_uuid": "a342f86489459a66a962ba8edcb93c63f3781843",
        "trusted": true
      },
      "cell_type": "code",
      "source": "from sklearn.model_selection import GridSearchCV",
      "execution_count": null,
      "outputs": []
    },
    {
      "metadata": {
        "trusted": true,
        "_uuid": "6d3c74e6e1a99db3f838671c45f96894f19f2d8d"
      },
      "cell_type": "code",
      "source": "gb=GradientBoostingRegressor(max_depth=7,n_estimators=200,learning_rate=0.01)\nparam=[{'min_samples_split':[5,9,13],'max_leaf_nodes':[3,5,7,9],'max_features':[8,10,15,18]}]\ngs=GridSearchCV(gb,param,cv=5,scoring='neg_mean_squared_error')\ngs.fit(train,train_label)",
      "execution_count": null,
      "outputs": []
    },
    {
      "metadata": {
        "trusted": true,
        "_uuid": "e455cac5c0ee3f0837f0f70e81bafcef10c12a31"
      },
      "cell_type": "code",
      "source": "gs.best_estimator_",
      "execution_count": null,
      "outputs": []
    },
    {
      "metadata": {
        "trusted": true,
        "_uuid": "3ec52999b75217e6170842c34c15fc1f5271be2c"
      },
      "cell_type": "code",
      "source": "gb=gs.best_estimator_",
      "execution_count": null,
      "outputs": []
    },
    {
      "metadata": {
        "_uuid": "0d833af084ecb3869f1b8954dd749afe743d0169"
      },
      "cell_type": "markdown",
      "source": "# Now Train our model on Training Data"
    },
    {
      "metadata": {
        "_uuid": "46862c2a8105b3d0470e13fd4f3d1c2a1976e83b",
        "trusted": true
      },
      "cell_type": "code",
      "source": "total=pd.concat([train,test],axis=0,ignore_index=True)",
      "execution_count": null,
      "outputs": []
    },
    {
      "metadata": {
        "_uuid": "18dd85c63231c9a22b11f20f5ffb850d219ab0c1",
        "trusted": true
      },
      "cell_type": "code",
      "source": "total_label=pd.concat([train_label,test_label],axis=0,ignore_index=True)",
      "execution_count": null,
      "outputs": []
    },
    {
      "metadata": {
        "_uuid": "129881d54bc861bad90d81317566fe6a5d71a9c7",
        "trusted": true
      },
      "cell_type": "code",
      "source": "total_label.shape,total.shape",
      "execution_count": null,
      "outputs": []
    },
    {
      "metadata": {
        "_uuid": "ca7516f23c2ff5f494946fbf038f8661e49b7d55",
        "trusted": true
      },
      "cell_type": "code",
      "source": "gb.fit(total,total_label)",
      "execution_count": null,
      "outputs": []
    },
    {
      "metadata": {
        "_uuid": "6989daf6c362abd4ffe322242f697a2f17306b48"
      },
      "cell_type": "markdown",
      "source": "# TEST IMPORTING"
    },
    {
      "metadata": {
        "_uuid": "343f6b984927cdfa779a7ca9de2f118656500471",
        "trusted": true
      },
      "cell_type": "code",
      "source": "test=pd.read_csv('../input/Test.csv')",
      "execution_count": null,
      "outputs": []
    },
    {
      "metadata": {
        "_uuid": "1c1b9d86c72a560533322b0ad7b8f2b785866fe0",
        "trusted": true
      },
      "cell_type": "code",
      "source": "test.shape",
      "execution_count": null,
      "outputs": []
    },
    {
      "metadata": {
        "_uuid": "4f77efa822ff574406b90177e7010b2735537087"
      },
      "cell_type": "markdown",
      "source": "# Test Data Preprocessing"
    },
    {
      "metadata": {
        "_uuid": "f25dcde85d713626eed8493b3febf56717730d0b",
        "trusted": true
      },
      "cell_type": "code",
      "source": "attributes=['Item_MRP',\n 'Outlet_Type',\n 'Outlet_Size',\n 'Outlet_Location_Type',\n 'Outlet_Establishment_Year',\n 'Outlet_Identifier',\n 'Item_Type']",
      "execution_count": null,
      "outputs": []
    },
    {
      "metadata": {
        "_uuid": "744b766f198b22913ec11b756d0cdb2fee2cde4e",
        "trusted": true
      },
      "cell_type": "code",
      "source": "test=test[attributes]",
      "execution_count": null,
      "outputs": []
    },
    {
      "metadata": {
        "_uuid": "089ff55c7b763a6ea0aaa648f154505ffe811ed0",
        "trusted": true
      },
      "cell_type": "code",
      "source": "test.shape",
      "execution_count": null,
      "outputs": []
    },
    {
      "metadata": {
        "_uuid": "fe878a8e11b8c46cd7afb1efb320031d875cbe2f",
        "trusted": true
      },
      "cell_type": "code",
      "source": "test.info()",
      "execution_count": null,
      "outputs": []
    },
    {
      "metadata": {
        "_uuid": "a3e88d70bc45fc7b215c9f865a278aea56027424",
        "trusted": true
      },
      "cell_type": "code",
      "source": "test.Item_MRP=pd.cut(test.Item_MRP,bins=[25,75,140,205,270],labels=['a','b','c','d'],right=True)\ntest.Item_Type=test.Item_Type.astype('category')\ntest.Outlet_Size=test.Outlet_Size.astype('category')\ntest.Outlet_Identifier=test.Outlet_Identifier.astype('category')\ntest.Outlet_Establishment_Year=test.Outlet_Establishment_Year.astype('int64')\ntest.Outlet_Type=test.Outlet_Type.astype('category')\ntest.Outlet_Location_Type=test.Outlet_Location_Type.astype('category')",
      "execution_count": null,
      "outputs": []
    },
    {
      "metadata": {
        "_uuid": "ad33c49775b6758314bdf610f2afd609733cd568",
        "trusted": true
      },
      "cell_type": "code",
      "source": "test.info()",
      "execution_count": null,
      "outputs": []
    },
    {
      "metadata": {
        "_uuid": "dbec55c3e8d2eb94b2a62c42a72dabc278ff97fc",
        "trusted": true
      },
      "cell_type": "code",
      "source": "test.Outlet_Establishment_Year=test.Outlet_Establishment_Year.astype('category')",
      "execution_count": null,
      "outputs": []
    },
    {
      "metadata": {
        "_uuid": "3b5857075b26b364a13a28541f52736b9bcf0e6d",
        "trusted": true
      },
      "cell_type": "code",
      "source": "test.info()",
      "execution_count": null,
      "outputs": []
    },
    {
      "metadata": {
        "trusted": true,
        "_uuid": "6dd0855e7d1ed767596492965d4fae4a29c10e6c"
      },
      "cell_type": "code",
      "source": "def func(x):\n    if x.Outlet_Identifier == 'OUT010' :\n        x.Outlet_Size == 'High'\n    elif x.Outlet_Identifier == 'OUT045' :\n        x.Outlet_Size == 'Medium'\n    elif x.Outlet_Identifier == 'OUT017' :\n        x.Outlet_Size == 'Medium'\n    elif x.Outlet_Identifier == 'OUT013' :\n        x.Outlet_Size == 'High'\n    elif x.Outlet_Identifier == 'OUT046' :\n        x.Outlet_Size == 'Small'\n    elif x.Outlet_Identifier == 'OUT035' :\n        x.Outlet_Size == 'Small'\n    elif x.Outlet_Identifier == 'OUT019' :\n        x.Outlet_Size == 'Small'\n    elif x.Outlet_Identifier == 'OUT027' :\n        x.Outlet_Size == 'Medium'\n    elif x.Outlet_Identifier == 'OUT049' :\n        x.Outlet_Size == 'Medium'\n    elif x.Outlet_Identifier == 'OUT018' :\n        x.Outlet_Size == 'Medium'\n    return(x)",
      "execution_count": null,
      "outputs": []
    },
    {
      "metadata": {
        "trusted": true,
        "_uuid": "5d130cd6d87d113a46b4d6547385dd5bc5bee18f"
      },
      "cell_type": "code",
      "source": "test.Outlet_Size=test.apply(func,axis=1)",
      "execution_count": null,
      "outputs": []
    },
    {
      "metadata": {
        "_uuid": "03a6318040d280a354e8fe97f45a76d83cecbe32",
        "trusted": true
      },
      "cell_type": "code",
      "source": "test_dummy=pd.get_dummies(test.iloc[:,0:6])",
      "execution_count": null,
      "outputs": []
    },
    {
      "metadata": {
        "_uuid": "8293e9a2b4f039944bc56008a4b27606620e363c",
        "trusted": true
      },
      "cell_type": "code",
      "source": "test_dummy.head()",
      "execution_count": null,
      "outputs": []
    },
    {
      "metadata": {
        "_uuid": "975fab1e0bb13bbaa04a85b24c0180eda3121140"
      },
      "cell_type": "markdown",
      "source": "# Now predict price of test data with our ML Model"
    },
    {
      "metadata": {
        "_uuid": "eec0bb901539abfd1ee0d0b50739f46c030a9daf",
        "trusted": true
      },
      "cell_type": "code",
      "source": "predict=gb.predict(test_dummy)",
      "execution_count": null,
      "outputs": []
    },
    {
      "metadata": {
        "_uuid": "9f30b9a770e39af84035023ad8963c0317954145",
        "trusted": true
      },
      "cell_type": "code",
      "source": "predict.shape",
      "execution_count": null,
      "outputs": []
    },
    {
      "metadata": {
        "_uuid": "e80f6bb85e4c1a6bb05a44d64cb98f9ba1bebe22",
        "trusted": true
      },
      "cell_type": "code",
      "source": "sample=pd.read_csv('../input/Submission.csv')",
      "execution_count": null,
      "outputs": []
    },
    {
      "metadata": {
        "_uuid": "fd82a728f8f3e02079bb5c532c997169fc1e7c8a",
        "trusted": true
      },
      "cell_type": "code",
      "source": "sample.head()",
      "execution_count": null,
      "outputs": []
    },
    {
      "metadata": {
        "_uuid": "0a030fcfb4945b8ab899ef229e7b9a282939b543",
        "trusted": true
      },
      "cell_type": "code",
      "source": "del sample['Item_Outlet_Sales']",
      "execution_count": null,
      "outputs": []
    },
    {
      "metadata": {
        "_uuid": "751701b3b70d5b88468c28d44f08945c184ee6a8",
        "trusted": true,
        "scrolled": true
      },
      "cell_type": "code",
      "source": "df=pd.DataFrame({'Item_Outlet_Sales':predict})\ncorr_ans=pd.concat([sample,df],axis=1)\ndel corr_ans['Unnamed: 0']\ncorr_ans",
      "execution_count": null,
      "outputs": []
    },
    {
      "metadata": {
        "_uuid": "bbdf6fc53b06f72652e64746c8ca971cb078a8d7",
        "trusted": true
      },
      "cell_type": "code",
      "source": "corr_ans.to_csv('correct.csv',index=None)",
      "execution_count": null,
      "outputs": []
    },
    {
      "metadata": {
        "_uuid": "c659242a64874cf523ea07c8aeca9ba6e97194e9"
      },
      "cell_type": "markdown",
      "source": "# Feel free to give your suggestions and don't forget to give upvote :)"
    }
  ],
  "metadata": {
    "kernelspec": {
      "display_name": "Python 3",
      "language": "python",
      "name": "python3"
    },
    "language_info": {
      "name": "python",
      "version": "3.6.6",
      "mimetype": "text/x-python",
      "codemirror_mode": {
        "name": "ipython",
        "version": 3
      },
      "pygments_lexer": "ipython3",
      "nbconvert_exporter": "python",
      "file_extension": ".py"
    }
  },
  "nbformat": 4,
  "nbformat_minor": 1
}